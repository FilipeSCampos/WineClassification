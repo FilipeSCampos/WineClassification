{
 "cells": [
  {
   "cell_type": "code",
   "execution_count": 1,
   "id": "d565eadc",
   "metadata": {},
   "outputs": [],
   "source": [
    "import numpy as np\n",
    "import pandas as pd \n",
    "import matplotlib.pyplot as plt\n",
    "import seaborn as sb\n",
    "\n",
    "from sklearn.metrics import confusion_matrix, ConfusionMatrixDisplay\n",
    "from sklearn.model_selection import train_test_split\n",
    "from sklearn.preprocessing import MinMaxScaler\n",
    "from sklearn import metrics\n",
    "from sklearn.svm import SVC\n",
    "from xgboost import XGBClassifier\n",
    "from sklearn.linear_model import LogisticRegression\n",
    "from sklearn.tree import DecisionTreeClassifier\n",
    "import warnings\n",
    "warnings.filterwarnings('ignore')"
   ]
  },
  {
   "cell_type": "markdown",
   "id": "bc976903",
   "metadata": {},
   "source": [
    "#### Lendo o arquivo CSV e exibindo os dados"
   ]
  },
  {
   "cell_type": "code",
   "execution_count": 2,
   "id": "9d990b4e",
   "metadata": {
    "scrolled": true
   },
   "outputs": [
    {
     "data": {
      "text/html": [
       "<div>\n",
       "<style scoped>\n",
       "    .dataframe tbody tr th:only-of-type {\n",
       "        vertical-align: middle;\n",
       "    }\n",
       "\n",
       "    .dataframe tbody tr th {\n",
       "        vertical-align: top;\n",
       "    }\n",
       "\n",
       "    .dataframe thead th {\n",
       "        text-align: right;\n",
       "    }\n",
       "</style>\n",
       "<table border=\"1\" class=\"dataframe\">\n",
       "  <thead>\n",
       "    <tr style=\"text-align: right;\">\n",
       "      <th></th>\n",
       "      <th>type</th>\n",
       "      <th>fixed acidity</th>\n",
       "      <th>volatile acidity</th>\n",
       "      <th>citric acid</th>\n",
       "      <th>residual sugar</th>\n",
       "      <th>chlorides</th>\n",
       "      <th>free sulfur dioxide</th>\n",
       "      <th>total sulfur dioxide</th>\n",
       "      <th>density</th>\n",
       "      <th>pH</th>\n",
       "      <th>sulphates</th>\n",
       "      <th>alcohol</th>\n",
       "      <th>quality</th>\n",
       "    </tr>\n",
       "  </thead>\n",
       "  <tbody>\n",
       "    <tr>\n",
       "      <th>0</th>\n",
       "      <td>white</td>\n",
       "      <td>7.0</td>\n",
       "      <td>0.270</td>\n",
       "      <td>0.36</td>\n",
       "      <td>20.7</td>\n",
       "      <td>0.045</td>\n",
       "      <td>45.0</td>\n",
       "      <td>170.0</td>\n",
       "      <td>1.00100</td>\n",
       "      <td>3.00</td>\n",
       "      <td>0.45</td>\n",
       "      <td>8.8</td>\n",
       "      <td>6</td>\n",
       "    </tr>\n",
       "    <tr>\n",
       "      <th>1</th>\n",
       "      <td>white</td>\n",
       "      <td>6.3</td>\n",
       "      <td>0.300</td>\n",
       "      <td>0.34</td>\n",
       "      <td>1.6</td>\n",
       "      <td>0.049</td>\n",
       "      <td>14.0</td>\n",
       "      <td>132.0</td>\n",
       "      <td>0.99400</td>\n",
       "      <td>3.30</td>\n",
       "      <td>0.49</td>\n",
       "      <td>9.5</td>\n",
       "      <td>6</td>\n",
       "    </tr>\n",
       "    <tr>\n",
       "      <th>2</th>\n",
       "      <td>white</td>\n",
       "      <td>8.1</td>\n",
       "      <td>0.280</td>\n",
       "      <td>0.40</td>\n",
       "      <td>6.9</td>\n",
       "      <td>0.050</td>\n",
       "      <td>30.0</td>\n",
       "      <td>97.0</td>\n",
       "      <td>0.99510</td>\n",
       "      <td>3.26</td>\n",
       "      <td>0.44</td>\n",
       "      <td>10.1</td>\n",
       "      <td>6</td>\n",
       "    </tr>\n",
       "    <tr>\n",
       "      <th>3</th>\n",
       "      <td>white</td>\n",
       "      <td>7.2</td>\n",
       "      <td>0.230</td>\n",
       "      <td>0.32</td>\n",
       "      <td>8.5</td>\n",
       "      <td>0.058</td>\n",
       "      <td>47.0</td>\n",
       "      <td>186.0</td>\n",
       "      <td>0.99560</td>\n",
       "      <td>3.19</td>\n",
       "      <td>0.40</td>\n",
       "      <td>9.9</td>\n",
       "      <td>6</td>\n",
       "    </tr>\n",
       "    <tr>\n",
       "      <th>4</th>\n",
       "      <td>white</td>\n",
       "      <td>7.2</td>\n",
       "      <td>0.230</td>\n",
       "      <td>0.32</td>\n",
       "      <td>8.5</td>\n",
       "      <td>0.058</td>\n",
       "      <td>47.0</td>\n",
       "      <td>186.0</td>\n",
       "      <td>0.99560</td>\n",
       "      <td>3.19</td>\n",
       "      <td>0.40</td>\n",
       "      <td>9.9</td>\n",
       "      <td>6</td>\n",
       "    </tr>\n",
       "    <tr>\n",
       "      <th>...</th>\n",
       "      <td>...</td>\n",
       "      <td>...</td>\n",
       "      <td>...</td>\n",
       "      <td>...</td>\n",
       "      <td>...</td>\n",
       "      <td>...</td>\n",
       "      <td>...</td>\n",
       "      <td>...</td>\n",
       "      <td>...</td>\n",
       "      <td>...</td>\n",
       "      <td>...</td>\n",
       "      <td>...</td>\n",
       "      <td>...</td>\n",
       "    </tr>\n",
       "    <tr>\n",
       "      <th>6492</th>\n",
       "      <td>red</td>\n",
       "      <td>6.2</td>\n",
       "      <td>0.600</td>\n",
       "      <td>0.08</td>\n",
       "      <td>2.0</td>\n",
       "      <td>0.090</td>\n",
       "      <td>32.0</td>\n",
       "      <td>44.0</td>\n",
       "      <td>0.99490</td>\n",
       "      <td>3.45</td>\n",
       "      <td>0.58</td>\n",
       "      <td>10.5</td>\n",
       "      <td>5</td>\n",
       "    </tr>\n",
       "    <tr>\n",
       "      <th>6493</th>\n",
       "      <td>red</td>\n",
       "      <td>5.9</td>\n",
       "      <td>0.550</td>\n",
       "      <td>0.10</td>\n",
       "      <td>2.2</td>\n",
       "      <td>0.062</td>\n",
       "      <td>39.0</td>\n",
       "      <td>51.0</td>\n",
       "      <td>0.99512</td>\n",
       "      <td>3.52</td>\n",
       "      <td>NaN</td>\n",
       "      <td>11.2</td>\n",
       "      <td>6</td>\n",
       "    </tr>\n",
       "    <tr>\n",
       "      <th>6494</th>\n",
       "      <td>red</td>\n",
       "      <td>6.3</td>\n",
       "      <td>0.510</td>\n",
       "      <td>0.13</td>\n",
       "      <td>2.3</td>\n",
       "      <td>0.076</td>\n",
       "      <td>29.0</td>\n",
       "      <td>40.0</td>\n",
       "      <td>0.99574</td>\n",
       "      <td>3.42</td>\n",
       "      <td>0.75</td>\n",
       "      <td>11.0</td>\n",
       "      <td>6</td>\n",
       "    </tr>\n",
       "    <tr>\n",
       "      <th>6495</th>\n",
       "      <td>red</td>\n",
       "      <td>5.9</td>\n",
       "      <td>0.645</td>\n",
       "      <td>0.12</td>\n",
       "      <td>2.0</td>\n",
       "      <td>0.075</td>\n",
       "      <td>32.0</td>\n",
       "      <td>44.0</td>\n",
       "      <td>0.99547</td>\n",
       "      <td>3.57</td>\n",
       "      <td>0.71</td>\n",
       "      <td>10.2</td>\n",
       "      <td>5</td>\n",
       "    </tr>\n",
       "    <tr>\n",
       "      <th>6496</th>\n",
       "      <td>red</td>\n",
       "      <td>6.0</td>\n",
       "      <td>0.310</td>\n",
       "      <td>0.47</td>\n",
       "      <td>3.6</td>\n",
       "      <td>0.067</td>\n",
       "      <td>18.0</td>\n",
       "      <td>42.0</td>\n",
       "      <td>0.99549</td>\n",
       "      <td>3.39</td>\n",
       "      <td>0.66</td>\n",
       "      <td>11.0</td>\n",
       "      <td>6</td>\n",
       "    </tr>\n",
       "  </tbody>\n",
       "</table>\n",
       "<p>6497 rows × 13 columns</p>\n",
       "</div>"
      ],
      "text/plain": [
       "       type  fixed acidity  volatile acidity  citric acid  residual sugar  \\\n",
       "0     white            7.0             0.270         0.36            20.7   \n",
       "1     white            6.3             0.300         0.34             1.6   \n",
       "2     white            8.1             0.280         0.40             6.9   \n",
       "3     white            7.2             0.230         0.32             8.5   \n",
       "4     white            7.2             0.230         0.32             8.5   \n",
       "...     ...            ...               ...          ...             ...   \n",
       "6492    red            6.2             0.600         0.08             2.0   \n",
       "6493    red            5.9             0.550         0.10             2.2   \n",
       "6494    red            6.3             0.510         0.13             2.3   \n",
       "6495    red            5.9             0.645         0.12             2.0   \n",
       "6496    red            6.0             0.310         0.47             3.6   \n",
       "\n",
       "      chlorides  free sulfur dioxide  total sulfur dioxide  density    pH  \\\n",
       "0         0.045                 45.0                 170.0  1.00100  3.00   \n",
       "1         0.049                 14.0                 132.0  0.99400  3.30   \n",
       "2         0.050                 30.0                  97.0  0.99510  3.26   \n",
       "3         0.058                 47.0                 186.0  0.99560  3.19   \n",
       "4         0.058                 47.0                 186.0  0.99560  3.19   \n",
       "...         ...                  ...                   ...      ...   ...   \n",
       "6492      0.090                 32.0                  44.0  0.99490  3.45   \n",
       "6493      0.062                 39.0                  51.0  0.99512  3.52   \n",
       "6494      0.076                 29.0                  40.0  0.99574  3.42   \n",
       "6495      0.075                 32.0                  44.0  0.99547  3.57   \n",
       "6496      0.067                 18.0                  42.0  0.99549  3.39   \n",
       "\n",
       "      sulphates  alcohol  quality  \n",
       "0          0.45      8.8        6  \n",
       "1          0.49      9.5        6  \n",
       "2          0.44     10.1        6  \n",
       "3          0.40      9.9        6  \n",
       "4          0.40      9.9        6  \n",
       "...         ...      ...      ...  \n",
       "6492       0.58     10.5        5  \n",
       "6493        NaN     11.2        6  \n",
       "6494       0.75     11.0        6  \n",
       "6495       0.71     10.2        5  \n",
       "6496       0.66     11.0        6  \n",
       "\n",
       "[6497 rows x 13 columns]"
      ]
     },
     "metadata": {},
     "output_type": "display_data"
    }
   ],
   "source": [
    "df = pd.read_csv('winequalityN.csv')\n",
    "display(df)"
   ]
  },
  {
   "cell_type": "markdown",
   "id": "209051b5",
   "metadata": {},
   "source": [
    "####  Obtendo informações sobre o DataFrame"
   ]
  },
  {
   "cell_type": "code",
   "execution_count": 3,
   "id": "da9b1670",
   "metadata": {
    "scrolled": true
   },
   "outputs": [
    {
     "name": "stdout",
     "output_type": "stream",
     "text": [
      "<class 'pandas.core.frame.DataFrame'>\n",
      "RangeIndex: 6497 entries, 0 to 6496\n",
      "Data columns (total 13 columns):\n",
      " #   Column                Non-Null Count  Dtype  \n",
      "---  ------                --------------  -----  \n",
      " 0   type                  6497 non-null   object \n",
      " 1   fixed acidity         6487 non-null   float64\n",
      " 2   volatile acidity      6489 non-null   float64\n",
      " 3   citric acid           6494 non-null   float64\n",
      " 4   residual sugar        6495 non-null   float64\n",
      " 5   chlorides             6495 non-null   float64\n",
      " 6   free sulfur dioxide   6497 non-null   float64\n",
      " 7   total sulfur dioxide  6497 non-null   float64\n",
      " 8   density               6497 non-null   float64\n",
      " 9   pH                    6488 non-null   float64\n",
      " 10  sulphates             6493 non-null   float64\n",
      " 11  alcohol               6497 non-null   float64\n",
      " 12  quality               6497 non-null   int64  \n",
      "dtypes: float64(11), int64(1), object(1)\n",
      "memory usage: 660.0+ KB\n"
     ]
    }
   ],
   "source": [
    "df.info()"
   ]
  },
  {
   "cell_type": "markdown",
   "id": "bc313795",
   "metadata": {},
   "source": [
    "#### Realizando uma descrição estatística dos dados"
   ]
  },
  {
   "cell_type": "code",
   "execution_count": 4,
   "id": "1ee47feb",
   "metadata": {
    "scrolled": true
   },
   "outputs": [
    {
     "data": {
      "text/html": [
       "<div>\n",
       "<style scoped>\n",
       "    .dataframe tbody tr th:only-of-type {\n",
       "        vertical-align: middle;\n",
       "    }\n",
       "\n",
       "    .dataframe tbody tr th {\n",
       "        vertical-align: top;\n",
       "    }\n",
       "\n",
       "    .dataframe thead th {\n",
       "        text-align: right;\n",
       "    }\n",
       "</style>\n",
       "<table border=\"1\" class=\"dataframe\">\n",
       "  <thead>\n",
       "    <tr style=\"text-align: right;\">\n",
       "      <th></th>\n",
       "      <th>count</th>\n",
       "      <th>mean</th>\n",
       "      <th>std</th>\n",
       "      <th>min</th>\n",
       "      <th>25%</th>\n",
       "      <th>50%</th>\n",
       "      <th>75%</th>\n",
       "      <th>max</th>\n",
       "    </tr>\n",
       "  </thead>\n",
       "  <tbody>\n",
       "    <tr>\n",
       "      <th>fixed acidity</th>\n",
       "      <td>6487.0</td>\n",
       "      <td>7.216579</td>\n",
       "      <td>1.296750</td>\n",
       "      <td>3.80000</td>\n",
       "      <td>6.40000</td>\n",
       "      <td>7.00000</td>\n",
       "      <td>7.70000</td>\n",
       "      <td>15.90000</td>\n",
       "    </tr>\n",
       "    <tr>\n",
       "      <th>volatile acidity</th>\n",
       "      <td>6489.0</td>\n",
       "      <td>0.339691</td>\n",
       "      <td>0.164649</td>\n",
       "      <td>0.08000</td>\n",
       "      <td>0.23000</td>\n",
       "      <td>0.29000</td>\n",
       "      <td>0.40000</td>\n",
       "      <td>1.58000</td>\n",
       "    </tr>\n",
       "    <tr>\n",
       "      <th>citric acid</th>\n",
       "      <td>6494.0</td>\n",
       "      <td>0.318722</td>\n",
       "      <td>0.145265</td>\n",
       "      <td>0.00000</td>\n",
       "      <td>0.25000</td>\n",
       "      <td>0.31000</td>\n",
       "      <td>0.39000</td>\n",
       "      <td>1.66000</td>\n",
       "    </tr>\n",
       "    <tr>\n",
       "      <th>residual sugar</th>\n",
       "      <td>6495.0</td>\n",
       "      <td>5.444326</td>\n",
       "      <td>4.758125</td>\n",
       "      <td>0.60000</td>\n",
       "      <td>1.80000</td>\n",
       "      <td>3.00000</td>\n",
       "      <td>8.10000</td>\n",
       "      <td>65.80000</td>\n",
       "    </tr>\n",
       "    <tr>\n",
       "      <th>chlorides</th>\n",
       "      <td>6495.0</td>\n",
       "      <td>0.056042</td>\n",
       "      <td>0.035036</td>\n",
       "      <td>0.00900</td>\n",
       "      <td>0.03800</td>\n",
       "      <td>0.04700</td>\n",
       "      <td>0.06500</td>\n",
       "      <td>0.61100</td>\n",
       "    </tr>\n",
       "    <tr>\n",
       "      <th>free sulfur dioxide</th>\n",
       "      <td>6497.0</td>\n",
       "      <td>30.525319</td>\n",
       "      <td>17.749400</td>\n",
       "      <td>1.00000</td>\n",
       "      <td>17.00000</td>\n",
       "      <td>29.00000</td>\n",
       "      <td>41.00000</td>\n",
       "      <td>289.00000</td>\n",
       "    </tr>\n",
       "    <tr>\n",
       "      <th>total sulfur dioxide</th>\n",
       "      <td>6497.0</td>\n",
       "      <td>115.744574</td>\n",
       "      <td>56.521855</td>\n",
       "      <td>6.00000</td>\n",
       "      <td>77.00000</td>\n",
       "      <td>118.00000</td>\n",
       "      <td>156.00000</td>\n",
       "      <td>440.00000</td>\n",
       "    </tr>\n",
       "    <tr>\n",
       "      <th>density</th>\n",
       "      <td>6497.0</td>\n",
       "      <td>0.994697</td>\n",
       "      <td>0.002999</td>\n",
       "      <td>0.98711</td>\n",
       "      <td>0.99234</td>\n",
       "      <td>0.99489</td>\n",
       "      <td>0.99699</td>\n",
       "      <td>1.03898</td>\n",
       "    </tr>\n",
       "    <tr>\n",
       "      <th>pH</th>\n",
       "      <td>6488.0</td>\n",
       "      <td>3.218395</td>\n",
       "      <td>0.160748</td>\n",
       "      <td>2.72000</td>\n",
       "      <td>3.11000</td>\n",
       "      <td>3.21000</td>\n",
       "      <td>3.32000</td>\n",
       "      <td>4.01000</td>\n",
       "    </tr>\n",
       "    <tr>\n",
       "      <th>sulphates</th>\n",
       "      <td>6493.0</td>\n",
       "      <td>0.531215</td>\n",
       "      <td>0.148814</td>\n",
       "      <td>0.22000</td>\n",
       "      <td>0.43000</td>\n",
       "      <td>0.51000</td>\n",
       "      <td>0.60000</td>\n",
       "      <td>2.00000</td>\n",
       "    </tr>\n",
       "    <tr>\n",
       "      <th>alcohol</th>\n",
       "      <td>6497.0</td>\n",
       "      <td>10.491801</td>\n",
       "      <td>1.192712</td>\n",
       "      <td>8.00000</td>\n",
       "      <td>9.50000</td>\n",
       "      <td>10.30000</td>\n",
       "      <td>11.30000</td>\n",
       "      <td>14.90000</td>\n",
       "    </tr>\n",
       "    <tr>\n",
       "      <th>quality</th>\n",
       "      <td>6497.0</td>\n",
       "      <td>5.818378</td>\n",
       "      <td>0.873255</td>\n",
       "      <td>3.00000</td>\n",
       "      <td>5.00000</td>\n",
       "      <td>6.00000</td>\n",
       "      <td>6.00000</td>\n",
       "      <td>9.00000</td>\n",
       "    </tr>\n",
       "  </tbody>\n",
       "</table>\n",
       "</div>"
      ],
      "text/plain": [
       "                       count        mean        std      min       25%  \\\n",
       "fixed acidity         6487.0    7.216579   1.296750  3.80000   6.40000   \n",
       "volatile acidity      6489.0    0.339691   0.164649  0.08000   0.23000   \n",
       "citric acid           6494.0    0.318722   0.145265  0.00000   0.25000   \n",
       "residual sugar        6495.0    5.444326   4.758125  0.60000   1.80000   \n",
       "chlorides             6495.0    0.056042   0.035036  0.00900   0.03800   \n",
       "free sulfur dioxide   6497.0   30.525319  17.749400  1.00000  17.00000   \n",
       "total sulfur dioxide  6497.0  115.744574  56.521855  6.00000  77.00000   \n",
       "density               6497.0    0.994697   0.002999  0.98711   0.99234   \n",
       "pH                    6488.0    3.218395   0.160748  2.72000   3.11000   \n",
       "sulphates             6493.0    0.531215   0.148814  0.22000   0.43000   \n",
       "alcohol               6497.0   10.491801   1.192712  8.00000   9.50000   \n",
       "quality               6497.0    5.818378   0.873255  3.00000   5.00000   \n",
       "\n",
       "                            50%        75%        max  \n",
       "fixed acidity           7.00000    7.70000   15.90000  \n",
       "volatile acidity        0.29000    0.40000    1.58000  \n",
       "citric acid             0.31000    0.39000    1.66000  \n",
       "residual sugar          3.00000    8.10000   65.80000  \n",
       "chlorides               0.04700    0.06500    0.61100  \n",
       "free sulfur dioxide    29.00000   41.00000  289.00000  \n",
       "total sulfur dioxide  118.00000  156.00000  440.00000  \n",
       "density                 0.99489    0.99699    1.03898  \n",
       "pH                      3.21000    3.32000    4.01000  \n",
       "sulphates               0.51000    0.60000    2.00000  \n",
       "alcohol                10.30000   11.30000   14.90000  \n",
       "quality                 6.00000    6.00000    9.00000  "
      ]
     },
     "execution_count": 4,
     "metadata": {},
     "output_type": "execute_result"
    }
   ],
   "source": [
    "df.describe().T"
   ]
  },
  {
   "cell_type": "markdown",
   "id": "c14daacd",
   "metadata": {},
   "source": [
    "#### Verificando valores nulos"
   ]
  },
  {
   "cell_type": "code",
   "execution_count": 8,
   "id": "a57471cf",
   "metadata": {
    "scrolled": true
   },
   "outputs": [
    {
     "data": {
      "text/plain": [
       "type                     0\n",
       "fixed acidity           10\n",
       "volatile acidity         8\n",
       "citric acid              3\n",
       "residual sugar           2\n",
       "chlorides                2\n",
       "free sulfur dioxide      0\n",
       "total sulfur dioxide     0\n",
       "density                  0\n",
       "pH                       9\n",
       "sulphates                4\n",
       "alcohol                  0\n",
       "quality                  0\n",
       "dtype: int64"
      ]
     },
     "execution_count": 8,
     "metadata": {},
     "output_type": "execute_result"
    }
   ],
   "source": [
    "df.isnull().sum()"
   ]
  },
  {
   "cell_type": "markdown",
   "id": "c9172b20",
   "metadata": {},
   "source": [
    "#### Preenchendo valores nulos com a média das respectivas colunas"
   ]
  },
  {
   "cell_type": "code",
   "execution_count": 11,
   "id": "62a704e2",
   "metadata": {
    "scrolled": true
   },
   "outputs": [
    {
     "data": {
      "text/plain": [
       "type                    0\n",
       "fixed acidity           0\n",
       "volatile acidity        0\n",
       "citric acid             0\n",
       "residual sugar          0\n",
       "chlorides               0\n",
       "free sulfur dioxide     0\n",
       "total sulfur dioxide    0\n",
       "density                 0\n",
       "pH                      0\n",
       "sulphates               0\n",
       "alcohol                 0\n",
       "quality                 0\n",
       "dtype: int64"
      ]
     },
     "execution_count": 11,
     "metadata": {},
     "output_type": "execute_result"
    }
   ],
   "source": [
    "for col in df.columns:\n",
    "    if df[col].isnull().sum() > 0:\n",
    "        df[col] = df[col].fillna(df[col].mean())\n",
    "df.isnull().sum()"
   ]
  },
  {
   "cell_type": "markdown",
   "id": "216455ee",
   "metadata": {},
   "source": [
    "#### Criando histogramas para visualizar a distribuição das variáveis"
   ]
  },
  {
   "cell_type": "code",
   "execution_count": 160,
   "id": "82b6f0c3",
   "metadata": {
    "scrolled": false
   },
   "outputs": [
    {
     "data": {
      "image/png": "[encoded data removed]",
      "text/plain": [
       "<Figure size 1000x1000 with 16 Axes>"
      ]
     },
     "metadata": {},
     "output_type": "display_data"
    }
   ],
   "source": [
    "df.hist(bins = 20, color ='purple' ,figsize=(10,10))\n",
    "plt.show()"
   ]
  },
  {
   "cell_type": "markdown",
   "id": "c87d4e30",
   "metadata": {},
   "source": [
    "#### Criando um gráfico de barras para a relação entre qualidade e teor de álcool"
   ]
  },
  {
   "cell_type": "code",
   "execution_count": 18,
   "id": "53836297",
   "metadata": {
    "scrolled": true
   },
   "outputs": [
    {
     "data": {
      "image/png": "[encoded data removed]",
      "text/plain": [
       "<Figure size 640x480 with 1 Axes>"
      ]
     },
     "metadata": {},
     "output_type": "display_data"
    }
   ],
   "source": [
    "plt.bar(df['quality'], df['alcohol'],color= 'purple')\n",
    "plt.xlabel('quality')\n",
    "plt.ylabel('alcohol')\n",
    "plt.show()"
   ]
  },
  {
   "cell_type": "markdown",
   "id": "37e56fa1",
   "metadata": {},
   "source": [
    "#### Criando uma matriz de correlação e plotando um heatmap"
   ]
  },
  {
   "cell_type": "code",
   "execution_count": 20,
   "id": "2bcfbf95",
   "metadata": {
    "scrolled": true
   },
   "outputs": [
    {
     "data": {
      "image/png": "[encoded data removed]",
      "text/plain": [
       "<Figure size 1200x1000 with 1 Axes>"
      ]
     },
     "metadata": {},
     "output_type": "display_data"
    }
   ],
   "source": [
    "plt.figure(figsize =(12,10))\n",
    "sb.heatmap(df.corr() > 0.7, annot=True, cbar=False)\n",
    "plt.show()"
   ]
  },
  {
   "cell_type": "markdown",
   "id": "04d4af6f",
   "metadata": {},
   "source": [
    "#### Removendo a coluna 'total sulfur dioxide' do DataFrame, visto que existe uma alta correlação entre ela e a coluna 'free sulfur dioxide'"
   ]
  },
  {
   "cell_type": "code",
   "execution_count": null,
   "id": "75df51bb",
   "metadata": {},
   "outputs": [],
   "source": [
    "df = df.drop('total sulfur dioxide', axis = 1)"
   ]
  },
  {
   "cell_type": "markdown",
   "id": "87f5d2c1",
   "metadata": {},
   "source": [
    "#### Criando uma nova coluna 'best quality' com base na qualidade do vinho (1 se maior que 5, 0 caso contrário)\n"
   ]
  },
  {
   "cell_type": "code",
   "execution_count": 102,
   "id": "cf6f555d",
   "metadata": {},
   "outputs": [],
   "source": [
    "df['best quality'] = [1 if x > 5 else 0 for x in df.quality]"
   ]
  },
  {
   "cell_type": "markdown",
   "id": "c8005a20",
   "metadata": {},
   "source": [
    "#### Substituindo os valores 'white' por 1 e 'red' por 0 na coluna 'type'\n"
   ]
  },
  {
   "cell_type": "code",
   "execution_count": 31,
   "id": "69140906",
   "metadata": {},
   "outputs": [],
   "source": [
    "df.replace({'white' : 1, 'red' : 0}, inplace = True)"
   ]
  },
  {
   "cell_type": "markdown",
   "id": "cdf97f5b",
   "metadata": {},
   "source": [
    "#### Exibindo o DataFrame atualizado\n"
   ]
  },
  {
   "cell_type": "code",
   "execution_count": 103,
   "id": "0ce3ad27",
   "metadata": {
    "scrolled": true
   },
   "outputs": [
    {
     "data": {
      "text/html": [
       "<div>\n",
       "<style scoped>\n",
       "    .dataframe tbody tr th:only-of-type {\n",
       "        vertical-align: middle;\n",
       "    }\n",
       "\n",
       "    .dataframe tbody tr th {\n",
       "        vertical-align: top;\n",
       "    }\n",
       "\n",
       "    .dataframe thead th {\n",
       "        text-align: right;\n",
       "    }\n",
       "</style>\n",
       "<table border=\"1\" class=\"dataframe\">\n",
       "  <thead>\n",
       "    <tr style=\"text-align: right;\">\n",
       "      <th></th>\n",
       "      <th>type</th>\n",
       "      <th>fixed acidity</th>\n",
       "      <th>volatile acidity</th>\n",
       "      <th>citric acid</th>\n",
       "      <th>residual sugar</th>\n",
       "      <th>chlorides</th>\n",
       "      <th>free sulfur dioxide</th>\n",
       "      <th>density</th>\n",
       "      <th>pH</th>\n",
       "      <th>sulphates</th>\n",
       "      <th>alcohol</th>\n",
       "      <th>quality</th>\n",
       "      <th>best quality</th>\n",
       "    </tr>\n",
       "  </thead>\n",
       "  <tbody>\n",
       "    <tr>\n",
       "      <th>0</th>\n",
       "      <td>1</td>\n",
       "      <td>7.0</td>\n",
       "      <td>0.270</td>\n",
       "      <td>0.36</td>\n",
       "      <td>20.7</td>\n",
       "      <td>0.045</td>\n",
       "      <td>45.0</td>\n",
       "      <td>1.00100</td>\n",
       "      <td>3.00</td>\n",
       "      <td>0.450000</td>\n",
       "      <td>8.8</td>\n",
       "      <td>6</td>\n",
       "      <td>1</td>\n",
       "    </tr>\n",
       "    <tr>\n",
       "      <th>1</th>\n",
       "      <td>1</td>\n",
       "      <td>6.3</td>\n",
       "      <td>0.300</td>\n",
       "      <td>0.34</td>\n",
       "      <td>1.6</td>\n",
       "      <td>0.049</td>\n",
       "      <td>14.0</td>\n",
       "      <td>0.99400</td>\n",
       "      <td>3.30</td>\n",
       "      <td>0.490000</td>\n",
       "      <td>9.5</td>\n",
       "      <td>6</td>\n",
       "      <td>1</td>\n",
       "    </tr>\n",
       "    <tr>\n",
       "      <th>2</th>\n",
       "      <td>1</td>\n",
       "      <td>8.1</td>\n",
       "      <td>0.280</td>\n",
       "      <td>0.40</td>\n",
       "      <td>6.9</td>\n",
       "      <td>0.050</td>\n",
       "      <td>30.0</td>\n",
       "      <td>0.99510</td>\n",
       "      <td>3.26</td>\n",
       "      <td>0.440000</td>\n",
       "      <td>10.1</td>\n",
       "      <td>6</td>\n",
       "      <td>1</td>\n",
       "    </tr>\n",
       "    <tr>\n",
       "      <th>3</th>\n",
       "      <td>1</td>\n",
       "      <td>7.2</td>\n",
       "      <td>0.230</td>\n",
       "      <td>0.32</td>\n",
       "      <td>8.5</td>\n",
       "      <td>0.058</td>\n",
       "      <td>47.0</td>\n",
       "      <td>0.99560</td>\n",
       "      <td>3.19</td>\n",
       "      <td>0.400000</td>\n",
       "      <td>9.9</td>\n",
       "      <td>6</td>\n",
       "      <td>1</td>\n",
       "    </tr>\n",
       "    <tr>\n",
       "      <th>4</th>\n",
       "      <td>1</td>\n",
       "      <td>7.2</td>\n",
       "      <td>0.230</td>\n",
       "      <td>0.32</td>\n",
       "      <td>8.5</td>\n",
       "      <td>0.058</td>\n",
       "      <td>47.0</td>\n",
       "      <td>0.99560</td>\n",
       "      <td>3.19</td>\n",
       "      <td>0.400000</td>\n",
       "      <td>9.9</td>\n",
       "      <td>6</td>\n",
       "      <td>1</td>\n",
       "    </tr>\n",
       "    <tr>\n",
       "      <th>...</th>\n",
       "      <td>...</td>\n",
       "      <td>...</td>\n",
       "      <td>...</td>\n",
       "      <td>...</td>\n",
       "      <td>...</td>\n",
       "      <td>...</td>\n",
       "      <td>...</td>\n",
       "      <td>...</td>\n",
       "      <td>...</td>\n",
       "      <td>...</td>\n",
       "      <td>...</td>\n",
       "      <td>...</td>\n",
       "      <td>...</td>\n",
       "    </tr>\n",
       "    <tr>\n",
       "      <th>6492</th>\n",
       "      <td>0</td>\n",
       "      <td>6.2</td>\n",
       "      <td>0.600</td>\n",
       "      <td>0.08</td>\n",
       "      <td>2.0</td>\n",
       "      <td>0.090</td>\n",
       "      <td>32.0</td>\n",
       "      <td>0.99490</td>\n",
       "      <td>3.45</td>\n",
       "      <td>0.580000</td>\n",
       "      <td>10.5</td>\n",
       "      <td>5</td>\n",
       "      <td>0</td>\n",
       "    </tr>\n",
       "    <tr>\n",
       "      <th>6493</th>\n",
       "      <td>0</td>\n",
       "      <td>5.9</td>\n",
       "      <td>0.550</td>\n",
       "      <td>0.10</td>\n",
       "      <td>2.2</td>\n",
       "      <td>0.062</td>\n",
       "      <td>39.0</td>\n",
       "      <td>0.99512</td>\n",
       "      <td>3.52</td>\n",
       "      <td>0.531215</td>\n",
       "      <td>11.2</td>\n",
       "      <td>6</td>\n",
       "      <td>1</td>\n",
       "    </tr>\n",
       "    <tr>\n",
       "      <th>6494</th>\n",
       "      <td>0</td>\n",
       "      <td>6.3</td>\n",
       "      <td>0.510</td>\n",
       "      <td>0.13</td>\n",
       "      <td>2.3</td>\n",
       "      <td>0.076</td>\n",
       "      <td>29.0</td>\n",
       "      <td>0.99574</td>\n",
       "      <td>3.42</td>\n",
       "      <td>0.750000</td>\n",
       "      <td>11.0</td>\n",
       "      <td>6</td>\n",
       "      <td>1</td>\n",
       "    </tr>\n",
       "    <tr>\n",
       "      <th>6495</th>\n",
       "      <td>0</td>\n",
       "      <td>5.9</td>\n",
       "      <td>0.645</td>\n",
       "      <td>0.12</td>\n",
       "      <td>2.0</td>\n",
       "      <td>0.075</td>\n",
       "      <td>32.0</td>\n",
       "      <td>0.99547</td>\n",
       "      <td>3.57</td>\n",
       "      <td>0.710000</td>\n",
       "      <td>10.2</td>\n",
       "      <td>5</td>\n",
       "      <td>0</td>\n",
       "    </tr>\n",
       "    <tr>\n",
       "      <th>6496</th>\n",
       "      <td>0</td>\n",
       "      <td>6.0</td>\n",
       "      <td>0.310</td>\n",
       "      <td>0.47</td>\n",
       "      <td>3.6</td>\n",
       "      <td>0.067</td>\n",
       "      <td>18.0</td>\n",
       "      <td>0.99549</td>\n",
       "      <td>3.39</td>\n",
       "      <td>0.660000</td>\n",
       "      <td>11.0</td>\n",
       "      <td>6</td>\n",
       "      <td>1</td>\n",
       "    </tr>\n",
       "  </tbody>\n",
       "</table>\n",
       "<p>6497 rows × 13 columns</p>\n",
       "</div>"
      ],
      "text/plain": [
       "      type  fixed acidity  volatile acidity  citric acid  residual sugar  \\\n",
       "0        1            7.0             0.270         0.36            20.7   \n",
       "1        1            6.3             0.300         0.34             1.6   \n",
       "2        1            8.1             0.280         0.40             6.9   \n",
       "3        1            7.2             0.230         0.32             8.5   \n",
       "4        1            7.2             0.230         0.32             8.5   \n",
       "...    ...            ...               ...          ...             ...   \n",
       "6492     0            6.2             0.600         0.08             2.0   \n",
       "6493     0            5.9             0.550         0.10             2.2   \n",
       "6494     0            6.3             0.510         0.13             2.3   \n",
       "6495     0            5.9             0.645         0.12             2.0   \n",
       "6496     0            6.0             0.310         0.47             3.6   \n",
       "\n",
       "      chlorides  free sulfur dioxide  density    pH  sulphates  alcohol  \\\n",
       "0         0.045                 45.0  1.00100  3.00   0.450000      8.8   \n",
       "1         0.049                 14.0  0.99400  3.30   0.490000      9.5   \n",
       "2         0.050                 30.0  0.99510  3.26   0.440000     10.1   \n",
       "3         0.058                 47.0  0.99560  3.19   0.400000      9.9   \n",
       "4         0.058                 47.0  0.99560  3.19   0.400000      9.9   \n",
       "...         ...                  ...      ...   ...        ...      ...   \n",
       "6492      0.090                 32.0  0.99490  3.45   0.580000     10.5   \n",
       "6493      0.062                 39.0  0.99512  3.52   0.531215     11.2   \n",
       "6494      0.076                 29.0  0.99574  3.42   0.750000     11.0   \n",
       "6495      0.075                 32.0  0.99547  3.57   0.710000     10.2   \n",
       "6496      0.067                 18.0  0.99549  3.39   0.660000     11.0   \n",
       "\n",
       "      quality  best quality  \n",
       "0           6             1  \n",
       "1           6             1  \n",
       "2           6             1  \n",
       "3           6             1  \n",
       "4           6             1  \n",
       "...       ...           ...  \n",
       "6492        5             0  \n",
       "6493        6             1  \n",
       "6494        6             1  \n",
       "6495        5             0  \n",
       "6496        6             1  \n",
       "\n",
       "[6497 rows x 13 columns]"
      ]
     },
     "metadata": {},
     "output_type": "display_data"
    }
   ],
   "source": [
    "display(df)"
   ]
  },
  {
   "cell_type": "markdown",
   "id": "14a983ae",
   "metadata": {},
   "source": [
    "#### Separando as features e o target e dividindo os dados em conjunto de treinamento e teste\n"
   ]
  },
  {
   "cell_type": "code",
   "execution_count": 122,
   "id": "1c95c98a",
   "metadata": {},
   "outputs": [
    {
     "data": {
      "text/plain": [
       "((5197, 11), (1300, 11))"
      ]
     },
     "execution_count": 122,
     "metadata": {},
     "output_type": "execute_result"
    }
   ],
   "source": [
    "features = df.drop(['quality','best quality'], axis=1)\n",
    "target = df['best quality']\n",
    "\n",
    "xtrain, xtest, ytrain, ytest = train_test_split(features, target, test_size=0.2, random_state=40)\n",
    "\n",
    "xtrain.shape, xtest.shape"
   ]
  },
  {
   "cell_type": "markdown",
   "id": "6dabf4f3",
   "metadata": {},
   "source": [
    "#### Normalizando as features usando MinMaxScaler"
   ]
  },
  {
   "cell_type": "code",
   "execution_count": 123,
   "id": "2685e3bd",
   "metadata": {},
   "outputs": [],
   "source": [
    "norm = MinMaxScaler()\n",
    "xtrain = norm.fit_transform(xtrain)\n",
    "xtest = norm.transform(xtest)"
   ]
  },
  {
   "cell_type": "markdown",
   "id": "5def5792",
   "metadata": {},
   "source": [
    "#### Definindo os modelos a serem utilizados\n"
   ]
  },
  {
   "cell_type": "code",
   "execution_count": 124,
   "id": "e720afcb",
   "metadata": {},
   "outputs": [],
   "source": [
    "modelo = DecisionTreeClassifier(criterion = 'gini', max_depth= 7)"
   ]
  },
  {
   "cell_type": "markdown",
   "id": "46bd2f69",
   "metadata": {},
   "source": [
    "### Treinando os modelos e avaliando a acurácia\n"
   ]
  },
  {
   "cell_type": "code",
   "execution_count": 125,
   "id": "39d172e7",
   "metadata": {
    "scrolled": false
   },
   "outputs": [
    {
     "name": "stdout",
     "output_type": "stream",
     "text": [
      "LogisticRegression() : \n",
      "Training Accuracy :  0.7019709565048414\n",
      "Validation Accuracy :  0.6937888865050418\n",
      "\n",
      "DecisionTreeClassifier(max_depth=7) : \n",
      "Training Accuracy :  0.7849480820047879\n",
      "Validation Accuracy :  0.71137401538603\n",
      "\n",
      "SVC() : \n",
      "Training Accuracy :  0.7069199304892986\n",
      "Validation Accuracy :  0.695796426272719\n",
      "\n",
      "XGBClassifier(base_score=None, booster=None, callbacks=None,\n",
      "              colsample_bylevel=None, colsample_bynode=None,\n",
      "              colsample_bytree=None, early_stopping_rounds=None,\n",
      "              enable_categorical=False, eval_metric=None, feature_types=None,\n",
      "              gamma=None, gpu_id=None, grow_policy=None, importance_type=None,\n",
      "              interaction_constraints=None, learning_rate=None, max_bin=None,\n",
      "              max_cat_threshold=None, max_cat_to_onehot=None,\n",
      "              max_delta_step=None, max_depth=None, max_leaves=None,\n",
      "              min_child_weight=None, missing=nan, monotone_constraints=None,\n",
      "              n_estimators=100, n_jobs=None, num_parallel_tree=None,\n",
      "              predictor=None, random_state=None, ...) : \n",
      "Training Accuracy :  0.9758950458493477\n",
      "Validation Accuracy :  0.7893666799481003\n",
      "\n"
     ]
    }
   ],
   "source": [
    "models = [LogisticRegression() , modelo , SVC(kernel='rbf'), XGBClassifier()]\n",
    "\n",
    "for i in range(4):\n",
    "    models[i].fit(xtrain, ytrain)\n",
    " \n",
    "    print(f'{models[i]} : ')\n",
    "    print('Training Accuracy : ', metrics.roc_auc_score(ytrain, models[i].predict(xtrain)))\n",
    "    print('Validation Accuracy : ', metrics.roc_auc_score(\n",
    "        ytest, models[i].predict(xtest)))\n",
    "    print()"
   ]
  },
  {
   "cell_type": "markdown",
   "id": "e01a686e",
   "metadata": {},
   "source": [
    "#### Obtendo a importância das características para o modelo de árvore de decisão\n"
   ]
  },
  {
   "cell_type": "code",
   "execution_count": 126,
   "id": "e36d9240",
   "metadata": {
    "scrolled": true
   },
   "outputs": [
    {
     "name": "stdout",
     "output_type": "stream",
     "text": [
      "type 0.0\n",
      "fixed acidity 0.04904479812491508\n",
      "volatile acidity 0.2348746409000461\n",
      "citric acid 0.04405706264433988\n",
      "residual sugar 0.012901687790061643\n",
      "chlorides 0.02429584360199922\n",
      "free sulfur dioxide 0.08741314631460621\n",
      "density 0.027530880243768107\n",
      "pH 0.03202785316808599\n",
      "sulphates 0.06419445931556543\n",
      "alcohol 0.42365962789661243\n",
      "Acurácia Treino:  0.8091206465268425\n",
      "Acurácia Teste:  0.7446153846153846\n"
     ]
    }
   ],
   "source": [
    "importancias = modelo.feature_importances_\n",
    "nomes_features = features.columns\n",
    "\n",
    "# Imprimir importância das características\n",
    "for feature, importancia in zip(nomes_features, importancias):\n",
    "    print(feature, importancia)\n",
    "print(\"Acurácia Treino: \", modelo.score(xtrain, ytrain))\n",
    "print(\"Acurácia Teste: \", modelo.score(xtest, ytest))"
   ]
  },
  {
   "cell_type": "markdown",
   "id": "0290ef25",
   "metadata": {},
   "source": [
    "#### Criando a matriz de confusão para os modelos\n"
   ]
  },
  {
   "cell_type": "code",
   "execution_count": 139,
   "id": "f93e75e9",
   "metadata": {},
   "outputs": [],
   "source": [
    "from sklearn.metrics import confusion_matrix\n",
    "ypred = model.predict(X_test)"
   ]
  },
  {
   "cell_type": "code",
   "execution_count": 176,
   "id": "8cdf49d1",
   "metadata": {
    "scrolled": false
   },
   "outputs": [
    {
     "data": {
      "image/png": "[encoded data removed]",
      "text/plain": [
       "<Figure size 1000x1000 with 8 Axes>"
      ]
     },
     "metadata": {},
     "output_type": "display_data"
    }
   ],
   "source": [
    "cm1 = confusion_matrix(ytest, models[0].predict(xtest))\n",
    "cm2 = confusion_matrix(ytest, models[1].predict(xtest))\n",
    "cm3 = confusion_matrix(ytest, models[2].predict(xtest))\n",
    "cm4 = confusion_matrix(ytest, models[3].predict(xtest))\n",
    "\n",
    "fig, axs = plt.subplots(2, 2, figsize=(10, 10))\n",
    "\n",
    "sb.heatmap(cm1, annot=True, fmt='g', ax=axs[0, 0])\n",
    "axs[0, 0].set_title('LogisticRegression')\n",
    "axs[0, 0].set_xlabel('Predito')\n",
    "axs[0, 0].set_ylabel('Verdadeiro')\n",
    "\n",
    "# Plotar a matriz 2\n",
    "sb.heatmap(cm2, annot=True, fmt='g', ax=axs[0, 1])\n",
    "axs[0, 1].set_title('DecisionTree')\n",
    "axs[0, 1].set_xlabel('Predito')\n",
    "axs[0, 1].set_ylabel('Verdadeiro')\n",
    "\n",
    "# Plotar a matriz 3\n",
    "sb.heatmap(cm3, annot=True,fmt='g', ax=axs[1, 0])\n",
    "axs[1, 0].set_title('SVC')\n",
    "axs[1, 0].set_xlabel('Predito')\n",
    "axs[1, 0].set_ylabel('Verdadeiro')\n",
    "# Plotar a matriz 4\n",
    "sb.heatmap(cm4, annot=True, fmt='g', ax=axs[1, 1])\n",
    "axs[1, 1].set_title('XGBoost')\n",
    "axs[1, 1].set_xlabel('Predito')\n",
    "axs[1, 1].set_ylabel('Verdadeiro')\n",
    "# Ajustar o espaçamento entre os subplots\n",
    "plt.tight_layout()\n",
    "plt.show()"
   ]
  },
  {
   "cell_type": "markdown",
   "id": "e7e183ab",
   "metadata": {},
   "source": [
    "#### Exibindo o relatório de classificação para cada modelo\n"
   ]
  },
  {
   "cell_type": "code",
   "execution_count": 159,
   "id": "fbee38b4",
   "metadata": {},
   "outputs": [
    {
     "name": "stdout",
     "output_type": "stream",
     "text": [
      "Logistic Regression \n",
      "                precision    recall  f1-score   support\n",
      "\n",
      "           0       0.68      0.53      0.60       474\n",
      "           1       0.76      0.86      0.81       826\n",
      "\n",
      "    accuracy                           0.74      1300\n",
      "   macro avg       0.72      0.69      0.70      1300\n",
      "weighted avg       0.73      0.74      0.73      1300\n",
      "\n",
      "Decision Tree \n",
      "                precision    recall  f1-score   support\n",
      "\n",
      "           0       0.67      0.59      0.63       474\n",
      "           1       0.78      0.83      0.81       826\n",
      "\n",
      "    accuracy                           0.74      1300\n",
      "   macro avg       0.73      0.71      0.72      1300\n",
      "weighted avg       0.74      0.74      0.74      1300\n",
      "\n",
      "SVC \n",
      "                precision    recall  f1-score   support\n",
      "\n",
      "           0       0.71      0.51      0.59       474\n",
      "           1       0.76      0.88      0.81       826\n",
      "\n",
      "    accuracy                           0.75      1300\n",
      "   macro avg       0.73      0.70      0.70      1300\n",
      "weighted avg       0.74      0.75      0.73      1300\n",
      "\n",
      "XGBOOST \n",
      "                precision    recall  f1-score   support\n",
      "\n",
      "           0       0.76      0.70      0.73       474\n",
      "           1       0.84      0.87      0.86       826\n",
      "\n",
      "    accuracy                           0.81      1300\n",
      "   macro avg       0.80      0.79      0.79      1300\n",
      "weighted avg       0.81      0.81      0.81      1300\n",
      "\n"
     ]
    }
   ],
   "source": [
    "print('Logistic Regression \\n ',metrics.classification_report(ytest,models[0].predict(xtest)))\n",
    "print('Decision Tree \\n ',metrics.classification_report(ytest,models[1].predict(xtest)))\n",
    "print('SVC \\n ',metrics.classification_report(ytest,models[2].predict(xtest)))\n",
    "print('XGBOOST \\n ',metrics.classification_report(ytest,models[3].predict(xtest)))"
   ]
  }
 ],
 "metadata": {
  "kernelspec": {
   "display_name": "Python 3 (ipykernel)",
   "language": "python",
   "name": "python3"
  },
  "language_info": {
   "codemirror_mode": {
    "name": "ipython",
    "version": 3
   },
   "file_extension": ".py",
   "mimetype": "text/x-python",
   "name": "python",
   "nbconvert_exporter": "python",
   "pygments_lexer": "ipython3",
   "version": "3.10.9"
  }
 },
 "nbformat": 4,
 "nbformat_minor": 5
}
